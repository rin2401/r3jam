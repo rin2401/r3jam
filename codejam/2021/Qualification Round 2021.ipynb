{
 "cells": [
  {
   "cell_type": "code",
   "execution_count": 114,
   "metadata": {
    "tags": []
   },
   "outputs": [],
   "source": [
    "row_index = 0\n",
    "def input():\n",
    "    global row_index\n",
    "    rows = [t for t in text.split(\"\\n\") if t]\n",
    "    row_index += 1\n",
    "    return rows[row_index-1]\n",
    "\n",
    "def run():\n",
    "    global row_index\n",
    "    row_index = 0\n",
    "    solve()"
   ]
  },
  {
   "cell_type": "markdown",
   "metadata": {},
   "source": [
    "# Reversort"
   ]
  },
  {
   "cell_type": "code",
   "execution_count": 338,
   "metadata": {},
   "outputs": [],
   "source": [
    "def solve():\n",
    "    T = int(input())\n",
    "    for t in range(T):\n",
    "        N = int(input())\n",
    "        L = list(map(int, input().split()))\n",
    "        cost = 0\n",
    "        for i in range(0, len(L)-1):\n",
    "            j = L.index(min(L[i:]))\n",
    "            cost += j - i + 1\n",
    "            L = L[:i] + L[i:j+1][::-1] + L[j+1:] \n",
    "#             print(i, j, j-i+1, L)\n",
    "        print(\"Case #{}: {}\".format(t + 1, cost))"
   ]
  },
  {
   "cell_type": "code",
   "execution_count": 339,
   "metadata": {},
   "outputs": [
    {
     "name": "stdout",
     "output_type": "stream",
     "text": [
      "Case #1: 6\n",
      "Case #2: 1\n",
      "Case #3: 12\n"
     ]
    }
   ],
   "source": [
    "text = \"\"\"\n",
    "3\n",
    "4\n",
    "4 2 1 3\n",
    "2\n",
    "1 2\n",
    "7\n",
    "7 6 5 4 3 2 1\n",
    "\"\"\"\n",
    "\n",
    "# Case #1: 6\n",
    "# Case #2: 1\n",
    "# Case #3: 12\n",
    "run()"
   ]
  },
  {
   "cell_type": "markdown",
   "metadata": {},
   "source": [
    "# Moons and Umbrellas"
   ]
  },
  {
   "cell_type": "code",
   "execution_count": 159,
   "metadata": {},
   "outputs": [],
   "source": [
    "def solve():\n",
    "    T = int(input())\n",
    "    for t in range(T):\n",
    "        X, Y, S = input().split()\n",
    "        X, Y = int(X), int(Y)\n",
    "        if X > 0 and Y < 0:\n",
    "            S = S.replace(\"J?\", \"JC\")\n",
    "            S = S.replace(\"?C\", \"JC\")\n",
    "            S = S.replace(\"??\", \"JC\")\n",
    "        elif X < 0 and Y > 0:\n",
    "            S = S.replace(\"?J\", \"C?\")\n",
    "            S = S.replace(\"C?\", \"CJ\")\n",
    "            S = S.replace(\"??\", \"CJ\")\n",
    "        elif X < 0 and Y < 0:\n",
    "            if X < Y:\n",
    "                S = S.replace(\"?J\", \"C?\")\n",
    "                S = S.replace(\"C?\", \"CJ\")\n",
    "                S = S.replace(\"??\", \"CJ\")\n",
    "\n",
    "                S = S.replace(\"J?\", \"JC\")\n",
    "                S = S.replace(\"?C\", \"JC\")\n",
    "                S = S.replace(\"??\", \"JC\")\n",
    "            else:\n",
    "                S = S.replace(\"J?\", \"JC\")\n",
    "                S = S.replace(\"?C\", \"JC\")\n",
    "                S = S.replace(\"??\", \"JC\")\n",
    "\n",
    "                S = S.replace(\"?J\", \"C?\")\n",
    "                S = S.replace(\"C?\", \"CJ\")\n",
    "                S = S.replace(\"??\", \"CJ\")\n",
    "    \n",
    "        S = S.replace(\"?\", \"\")\n",
    "        cost = 0\n",
    "        for i in range(0, len(S) - 1):\n",
    "            if S[i:i+2] == \"CJ\":\n",
    "                cost += X\n",
    "            elif S[i:i+2] == \"JC\":\n",
    "                cost += Y\n",
    "            \n",
    "        print(\"Case #{}: {}\".format(t + 1, cost))"
   ]
  },
  {
   "cell_type": "code",
   "execution_count": 160,
   "metadata": {},
   "outputs": [
    {
     "name": "stdout",
     "output_type": "stream",
     "text": [
      "Case #1: 5\n",
      "Case #2: 10\n",
      "Case #3: 1\n",
      "Case #4: 0\n"
     ]
    }
   ],
   "source": [
    "text = \"\"\"\n",
    "4\n",
    "2 3 CJ?CC?\n",
    "4 2 CJCJ\n",
    "1 3 C?J\n",
    "2 5 ??J???\n",
    "\"\"\"\n",
    "\n",
    "# Case #1: 5\n",
    "# Case #2: 10\n",
    "# Case #3: 1\n",
    "# Case #4: 0\n",
    "run()"
   ]
  },
  {
   "cell_type": "code",
   "execution_count": 161,
   "metadata": {},
   "outputs": [
    {
     "name": "stdout",
     "output_type": "stream",
     "text": [
      "Case #1: -8\n"
     ]
    }
   ],
   "source": [
    "text = \"\"\"\n",
    "1\n",
    "2 -5 ??JJ??\n",
    "\"\"\"\n",
    "# Case #1: -8\n",
    "run()"
   ]
  },
  {
   "cell_type": "code",
   "execution_count": 162,
   "metadata": {},
   "outputs": [
    {
     "name": "stdout",
     "output_type": "stream",
     "text": [
      "Case #1: -8\n"
     ]
    }
   ],
   "source": [
    "text = \"\"\"\n",
    "1\n",
    "-5 2 ??JJ??\n",
    "\"\"\"\n",
    "# Case #1: -8\n",
    "run()"
   ]
  },
  {
   "cell_type": "markdown",
   "metadata": {},
   "source": [
    "# Reversort Engineering"
   ]
  },
  {
   "cell_type": "code",
   "execution_count": 335,
   "metadata": {},
   "outputs": [],
   "source": [
    "def solve():\n",
    "    T = int(input())\n",
    "    for t in range(T):\n",
    "        T, C = [int(i) for i in input().split()]\n",
    "        if C < T - 1 or C> T*(T+1)//2 - 1:\n",
    "            L = \"IMPOSSIBLE\"\n",
    "        else:\n",
    "            swaps = []\n",
    "            for i in range(T-1):\n",
    "                c = T - i - 1\n",
    "                if C <= c:\n",
    "                    break\n",
    "                else:\n",
    "                    c = min(T-i, C-c+1)\n",
    "                    swaps.append((i, c - 1 + i ))\n",
    "                    C -= c\n",
    "            L = list(range(1, T+1))\n",
    "            for i, j in swaps[::-1]:\n",
    "                L = L[:i] + L[i:j+1][::-1] + L[j+1:]\n",
    "            L = \" \".join([str(i) for i in L])\n",
    "            \n",
    "        print(\"Case #{}: {}\".format(t + 1, L))"
   ]
  },
  {
   "cell_type": "code",
   "execution_count": 337,
   "metadata": {},
   "outputs": [
    {
     "name": "stdout",
     "output_type": "stream",
     "text": [
      "Case #1: 4 3 2 1\n",
      "Case #2: 1 2\n",
      "Case #3: 7 6 5 4 3 2 1\n",
      "Case #4: IMPOSSIBLE\n",
      "Case #5: IMPOSSIBLE\n"
     ]
    }
   ],
   "source": [
    "text = \"\"\"\n",
    "5\n",
    "4 6\n",
    "2 1\n",
    "7 12\n",
    "7 2\n",
    "2 1000\n",
    "\"\"\"\n",
    "\n",
    "# Case #1: 4 2 1 3\n",
    "# Case #2: 1 2\n",
    "# Case #3: 7 6 5 4 3 2 1\n",
    "# Case #4: IMPOSSIBLE\n",
    "# Case #5: IMPOSSIBLE\n",
    "run()"
   ]
  },
  {
   "cell_type": "code",
   "execution_count": null,
   "metadata": {},
   "outputs": [],
   "source": []
  }
 ],
 "metadata": {
  "kernelspec": {
   "display_name": "base",
   "language": "python",
   "name": "base"
  },
  "language_info": {
   "codemirror_mode": {
    "name": "ipython",
    "version": 3
   },
   "file_extension": ".py",
   "mimetype": "text/x-python",
   "name": "python",
   "nbconvert_exporter": "python",
   "pygments_lexer": "ipython3",
   "version": "3.7.6"
  }
 },
 "nbformat": 4,
 "nbformat_minor": 4
}
