{
 "cells": [
  {
   "cell_type": "code",
   "execution_count": 114,
   "metadata": {
    "tags": []
   },
   "outputs": [],
   "source": [
    "row_index = 0\n",
    "def input():\n",
    "    global row_index\n",
    "    rows = [t for t in text.split(\"\\n\") if t]\n",
    "    row_index += 1\n",
    "    return rows[row_index-1]\n",
    "\n",
    "def run():\n",
    "    global row_index\n",
    "    row_index = 0\n",
    "    solve()"
   ]
  },
  {
   "cell_type": "markdown",
   "metadata": {},
   "source": [
    "# Reversort"
   ]
  },
  {
   "cell_type": "code",
   "execution_count": 338,
   "metadata": {},
   "outputs": [],
   "source": [
    "def solve():\n",
    "    T = int(input())\n",
    "    for t in range(T):\n",
    "        N = int(input())\n",
    "        L = list(map(int, input().split()))\n",
    "        cost = 0\n",
    "        for i in range(0, len(L)-1):\n",
    "            j = L.index(min(L[i:]))\n",
    "            cost += j - i + 1\n",
    "            L = L[:i] + L[i:j+1][::-1] + L[j+1:] \n",
    "#             print(i, j, j-i+1, L)\n",
    "        print(\"Case #{}: {}\".format(t + 1, cost))"
   ]
  },
  {
   "cell_type": "code",
   "execution_count": 339,
   "metadata": {},
   "outputs": [
    {
     "name": "stdout",
     "output_type": "stream",
     "text": [
      "Case #1: 6\n",
      "Case #2: 1\n",
      "Case #3: 12\n"
     ]
    }
   ],
   "source": [
    "text = \"\"\"\n",
    "3\n",
    "4\n",
    "4 2 1 3\n",
    "2\n",
    "1 2\n",
    "7\n",
    "7 6 5 4 3 2 1\n",
    "\"\"\"\n",
    "\n",
    "# Case #1: 6\n",
    "# Case #2: 1\n",
    "# Case #3: 12\n",
    "run()"
   ]
  },
  {
   "cell_type": "markdown",
   "metadata": {},
   "source": [
    "# Moons and Umbrellas"
   ]
  },
  {
   "cell_type": "code",
   "execution_count": 159,
   "metadata": {},
   "outputs": [],
   "source": [
    "def solve():\n",
    "    T = int(input())\n",
    "    for t in range(T):\n",
    "        X, Y, S = input().split()\n",
    "        X, Y = int(X), int(Y)\n",
    "        if X > 0 and Y < 0:\n",
    "            S = S.replace(\"J?\", \"JC\")\n",
    "            S = S.replace(\"?C\", \"JC\")\n",
    "            S = S.replace(\"??\", \"JC\")\n",
    "        elif X < 0 and Y > 0:\n",
    "            S = S.replace(\"?J\", \"C?\")\n",
    "            S = S.replace(\"C?\", \"CJ\")\n",
    "            S = S.replace(\"??\", \"CJ\")\n",
    "        elif X < 0 and Y < 0:\n",
    "            if X < Y:\n",
    "                S = S.replace(\"?J\", \"C?\")\n",
    "                S = S.replace(\"C?\", \"CJ\")\n",
    "                S = S.replace(\"??\", \"CJ\")\n",
    "\n",
    "                S = S.replace(\"J?\", \"JC\")\n",
    "                S = S.replace(\"?C\", \"JC\")\n",
    "                S = S.replace(\"??\", \"JC\")\n",
    "            else:\n",
    "                S = S.replace(\"J?\", \"JC\")\n",
    "                S = S.replace(\"?C\", \"JC\")\n",
    "                S = S.replace(\"??\", \"JC\")\n",
    "\n",
    "                S = S.replace(\"?J\", \"C?\")\n",
    "                S = S.replace(\"C?\", \"CJ\")\n",
    "                S = S.replace(\"??\", \"CJ\")\n",
    "    \n",
    "        S = S.replace(\"?\", \"\")\n",
    "        cost = 0\n",
    "        for i in range(0, len(S) - 1):\n",
    "            if S[i:i+2] == \"CJ\":\n",
    "                cost += X\n",
    "            elif S[i:i+2] == \"JC\":\n",
    "                cost += Y\n",
    "            \n",
    "        print(\"Case #{}: {}\".format(t + 1, cost))"
   ]
  },
  {
   "cell_type": "code",
   "execution_count": 160,
   "metadata": {},
   "outputs": [
    {
     "name": "stdout",
     "output_type": "stream",
     "text": [
      "Case #1: 5\n",
      "Case #2: 10\n",
      "Case #3: 1\n",
      "Case #4: 0\n"
     ]
    }
   ],
   "source": [
    "text = \"\"\"\n",
    "4\n",
    "2 3 CJ?CC?\n",
    "4 2 CJCJ\n",
    "1 3 C?J\n",
    "2 5 ??J???\n",
    "\"\"\"\n",
    "\n",
    "# Case #1: 5\n",
    "# Case #2: 10\n",
    "# Case #3: 1\n",
    "# Case #4: 0\n",
    "run()"
   ]
  },
  {
   "cell_type": "code",
   "execution_count": 161,
   "metadata": {},
   "outputs": [
    {
     "name": "stdout",
     "output_type": "stream",
     "text": [
      "Case #1: -8\n"
     ]
    }
   ],
   "source": [
    "text = \"\"\"\n",
    "1\n",
    "2 -5 ??JJ??\n",
    "\"\"\"\n",
    "# Case #1: -8\n",
    "run()"
   ]
  },
  {
   "cell_type": "code",
   "execution_count": 162,
   "metadata": {},
   "outputs": [
    {
     "name": "stdout",
     "output_type": "stream",
     "text": [
      "Case #1: -8\n"
     ]
    }
   ],
   "source": [
    "text = \"\"\"\n",
    "1\n",
    "-5 2 ??JJ??\n",
    "\"\"\"\n",
    "# Case #1: -8\n",
    "run()"
   ]
  },
  {
   "cell_type": "markdown",
   "metadata": {},
   "source": [
    "# Reversort Engineering"
   ]
  },
  {
   "cell_type": "code",
   "execution_count": 335,
   "metadata": {},
   "outputs": [],
   "source": [
    "def solve():\n",
    "    T = int(input())\n",
    "    for t in range(T):\n",
    "        T, C = [int(i) for i in input().split()]\n",
    "        if C < T - 1 or C> T*(T+1)//2 - 1:\n",
    "            L = \"IMPOSSIBLE\"\n",
    "        else:\n",
    "            swaps = []\n",
    "            for i in range(T-1):\n",
    "                c = T - i - 1\n",
    "                if C <= c:\n",
    "                    break\n",
    "                else:\n",
    "                    c = min(T-i, C-c+1)\n",
    "                    swaps.append((i, c - 1 + i ))\n",
    "                    C -= c\n",
    "            L = list(range(1, T+1))\n",
    "            for i, j in swaps[::-1]:\n",
    "                L = L[:i] + L[i:j+1][::-1] + L[j+1:]\n",
    "            L = \" \".join([str(i) for i in L])\n",
    "            \n",
    "        print(\"Case #{}: {}\".format(t + 1, L))"
   ]
  },
  {
   "cell_type": "code",
   "execution_count": 337,
   "metadata": {},
   "outputs": [
    {
     "name": "stdout",
     "output_type": "stream",
     "text": [
      "Case #1: 4 3 2 1\n",
      "Case #2: 1 2\n",
      "Case #3: 7 6 5 4 3 2 1\n",
      "Case #4: IMPOSSIBLE\n",
      "Case #5: IMPOSSIBLE\n"
     ]
    }
   ],
   "source": [
    "text = \"\"\"\n",
    "5\n",
    "4 6\n",
    "2 1\n",
    "7 12\n",
    "7 2\n",
    "2 1000\n",
    "\"\"\"\n",
    "\n",
    "# Case #1: 4 2 1 3\n",
    "# Case #2: 1 2\n",
    "# Case #3: 7 6 5 4 3 2 1\n",
    "# Case #4: IMPOSSIBLE\n",
    "# Case #5: IMPOSSIBLE\n",
    "run()"
   ]
  },
  {
   "cell_type": "markdown",
   "metadata": {},
   "source": [
    "# Median Sort"
   ]
  },
  {
   "cell_type": "code",
   "execution_count": 679,
   "metadata": {},
   "outputs": [
    {
     "name": "stdout",
     "output_type": "stream",
     "text": [
      "Overwriting test_median_sort.py\n"
     ]
    }
   ],
   "source": [
    "%%writefile test_median_sort.py\n",
    "# Usage: `local_testing_tool.py test_number`, where the argument test_number\n",
    "# is 0 (Test Set 1), 1 (Test Set 2) or 2 (Test Set 3).\n",
    "\n",
    "import sys\n",
    "import random\n",
    "\n",
    "# T = 100\n",
    "T = 1\n",
    "Ns = (10, 50, 50)\n",
    "Qs = (30000, 30000, 17000)\n",
    "CORRECT, WRONG = 1, -1\n",
    "\n",
    "\n",
    "def GenCase(n):\n",
    "    r = list(range(1, n + 1))\n",
    "    random.shuffle(r)\n",
    "    return tuple(r)\n",
    "\n",
    "\n",
    "def GenCases(n):\n",
    "    return tuple(GenCase(n) for _ in range(T))\n",
    "\n",
    "\n",
    "class Error(Exception):\n",
    "    pass\n",
    "\n",
    "\n",
    "class JudgeError(Exception):\n",
    "    pass\n",
    "\n",
    "\n",
    "INVALID_LINE_ERROR = \"Couldn't read a valid line\"\n",
    "TOO_LONG_LINE_ERROR = \"Line too long: {} characters\".format\n",
    "WRONG_NUM_TOKENS_ERROR = \"Wrong number of tokens, expected 3 or {} got {}\".format\n",
    "NOT_INTEGER_ERROR = \"Not an integer: {}\".format\n",
    "OUT_OF_BOUNDS_ERROR = \"{} is out of bounds\".format\n",
    "REPEATED_INTEGERS_ERROR = \"Received repeated integers: {}\".format\n",
    "TOO_MANY_QUERIES_ERROR = \"Queried too many times\"\n",
    "WRONG_ORDER_ERROR = \"Guessed wrong order\"\n",
    "CASE_ERROR = \"Case #{} failed: {}\".format\n",
    "EXCEPTION_AFTER_END_ERROR = (\n",
    "        \"Exception raised while reading input after all cases finish.\")\n",
    "ADDITIONAL_INPUT_ERROR = \"Additional input after all cases finish: {}\".format\n",
    "QUERIES_USED = \"Total Queries Used: {}/{}\".format\n",
    "\n",
    "\n",
    "def ParseInteger(line):\n",
    "    try:\n",
    "        return int(line)\n",
    "    except:\n",
    "        raise Error(NOT_INTEGER_ERROR(line))\n",
    "\n",
    "\n",
    "def ReadValues(n, line):\n",
    "    if len(line) > 1000:\n",
    "        raise Error(TOO_LONG_LINE_ERROR(len(line)))\n",
    "    parts = line.split()\n",
    "    if len(parts) not in (3, n):\n",
    "        raise Error(WRONG_NUM_TOKENS_ERROR(n, len(parts)))\n",
    "    v = tuple(ParseInteger(parts[i]) for i in range(len(parts)))\n",
    "    for vi in v:\n",
    "        if not 1 <= vi <= n:\n",
    "            raise Error(OUT_OF_BOUNDS_ERROR(vi))\n",
    "    if len(set(v)) != len(v):\n",
    "        raise Error(REPEATED_INTEGERS_ERROR(v))\n",
    "    return v\n",
    "\n",
    "\n",
    "def Inv(v):\n",
    "    r = list(v)\n",
    "    for i in range(len(r)):\n",
    "        r[v[i] - 1] = i + 1\n",
    "    return tuple(r)\n",
    "\n",
    "\n",
    "def Mid(pos, v):\n",
    "    if len(v) != 3:\n",
    "        raise JudgeError(\"Mid called with {} values (expected 3)\".format(len(v)))\n",
    "    p = tuple(pos[vi - 1] for vi in v)\n",
    "    min_p, max_p = min(p), max(p)\n",
    "    for vi in v:\n",
    "        if pos[vi - 1] not in (min_p, max_p):\n",
    "            return vi\n",
    "\n",
    "\n",
    "def Output(line):\n",
    "    try:\n",
    "        print(line)\n",
    "        sys.stdout.flush()\n",
    "    except:\n",
    "        # If we let stdout be closed by the end of the program, then an unraisable\n",
    "        # broken pipe exception will happen, and we won't be able to finish\n",
    "        # normally.\n",
    "        try:\n",
    "            sys.stdout.close()\n",
    "        except:\n",
    "            pass\n",
    "\n",
    "\n",
    "def RunCase(case, max_q):\n",
    "\n",
    "    def Input():\n",
    "        try:\n",
    "            return input()\n",
    "        except:\n",
    "            raise Error(INVALID_LINE_ERROR)\n",
    "\n",
    "    pos = Inv(case)\n",
    "    \n",
    "    print(\"Case\", case, file=sys.stderr)\n",
    "    print(\"Pos:\", pos, file=sys.stderr)\n",
    "\n",
    "    q = 0\n",
    "    while True:\n",
    "        v = ReadValues(len(case), Input())\n",
    "        if len(v) == len(case):\n",
    "            if v != case and v != tuple(reversed(case)):\n",
    "                raise Error(WRONG_ORDER_ERROR)\n",
    "            return q\n",
    "        if q >= max_q:\n",
    "            raise Error(TOO_MANY_QUERIES_ERROR)\n",
    "        q += 1\n",
    "        \n",
    "        mid = Mid(pos, v)\n",
    "        \n",
    "#         print(\"Mid:\", v, mid, file=sys.stderr)\n",
    "        Output(mid)\n",
    "\n",
    "\n",
    "def RunCases(cases, max_q):\n",
    "    Output(\"{} {} {}\".format(len(cases), len(cases[0]), max_q))\n",
    "    tot_q = 0\n",
    "    for i, case in enumerate(cases, 1):\n",
    "        try:\n",
    "            q = RunCase(case, max_q - tot_q)\n",
    "            Output(CORRECT)\n",
    "            tot_q += q\n",
    "        except Error as err:\n",
    "            Output(WRONG)\n",
    "            raise Error(CASE_ERROR(i, err))\n",
    "\n",
    "    try:\n",
    "        extra_input = input()\n",
    "    except EOFError:\n",
    "        return tot_q\n",
    "    except Exception:    # pylint: disable=broad-except\n",
    "        raise Error(EXCEPTION_AFTER_END_ERROR)\n",
    "    raise Error(ADDITIONAL_INPUT_ERROR(extra_input[:100]))\n",
    "\n",
    "\n",
    "def main():\n",
    "    assert len(sys.argv) == 2, \"Bad usage\"\n",
    "    index = int(sys.argv[1])\n",
    "    random.seed(1234 + index)\n",
    "    assert index in (0, 1, 2)\n",
    "    try:\n",
    "        q = RunCases(GenCases(Ns[index]), Qs[index])\n",
    "        print(QUERIES_USED(q, Qs[index]), file=sys.stderr)\n",
    "    except Error as err:\n",
    "        print(str(err)[:1000], file=sys.stderr)\n",
    "        sys.exit(1)\n",
    "    except Exception as exception:\n",
    "        Output(WRONG)\n",
    "        print(\n",
    "                (\"JUDGE_ERROR! Internal judge exception: {}\".format(exception))[:1000],\n",
    "                file=sys.stderr)\n",
    "        sys.exit(1)\n",
    "\n",
    "\n",
    "if __name__ == \"__main__\":\n",
    "    main()"
   ]
  },
  {
   "cell_type": "code",
   "execution_count": 680,
   "metadata": {},
   "outputs": [
    {
     "name": "stdout",
     "output_type": "stream",
     "text": [
      "Overwriting sol_median_sort.py\n"
     ]
    }
   ],
   "source": [
    "%%writefile sol_median_sort.py\n",
    "import sys\n",
    "\n",
    "T, N, Q = [int(x) for x in input().split()]\n",
    "print(T, N, Q, file=sys.stderr)\n",
    "\n",
    "def log(*a):\n",
    "    print(*a, file=sys.stderr)\n",
    "\n",
    "def query(*a):\n",
    "    print(*a)\n",
    "    sys.stdout.flush()\n",
    "    r = input()\n",
    "#     log(a, r)\n",
    "    return r\n",
    "\n",
    "def solve():    \n",
    "    L = [1,2]\n",
    "    for n in range(3, N+1):\n",
    "        for i in range(len(L)-1):\n",
    "            r = query(L[i], L[i+1], n)\n",
    "            r = int(r)\n",
    "            if r==n:\n",
    "                L = L[:i+1] + [n] + L[i+1:]\n",
    "                break\n",
    "            if r==L[0]:\n",
    "                L = [n] + L\n",
    "                break\n",
    "            if r==L[-1]:\n",
    "                L = L + [n]\n",
    "                break\n",
    "    log(L)\n",
    "    r = query(*L)\n",
    "    \n",
    "    return\n",
    "\n",
    "    \n",
    "for t in range(T):\n",
    "    solve()\n",
    "    \n",
    "sys.exit()"
   ]
  },
  {
   "cell_type": "code",
   "execution_count": 681,
   "metadata": {},
   "outputs": [
    {
     "name": "stdout",
     "output_type": "stream",
     "text": [
      "\n",
      "Judge return code: 0\n",
      "Solution return code: 0\n",
      "A solution and judge both finishing with exit code 0 (without exceeding time or memory limits) would be interpreted as Correct in the system.\n"
     ]
    },
    {
     "name": "stderr",
     "output_type": "stream",
     "text": [
      "judge: Case (3, 9, 4, 6, 7, 5, 10, 1, 2, 8)\n",
      "\n",
      "judge: Pos: (8, 9, 1, 3, 6, 4, 5, 10, 2, 7)\n",
      "\n",
      "  sol: 1 10 30000\n",
      "\n",
      "  sol: [3, 9, 4, 6, 7, 5, 10, 1, 2, 8]\n",
      "\n",
      "judge: Total Queries Used: 22/30000\n",
      "\n"
     ]
    }
   ],
   "source": [
    "!python interactive_runner.py python test_median_sort.py 0 -- python sol_median_sort.py"
   ]
  },
  {
   "cell_type": "code",
   "execution_count": 682,
   "metadata": {},
   "outputs": [
    {
     "name": "stderr",
     "output_type": "stream",
     "text": [
      "judge: Case (16, 48, 22, 4, 12, 44, 15, 5, 6, 34, 9, 40, 3, 37, 33, 19, 36, 18, 20, 1, 13, 8, 21, 47, 46, 32, 50, 11, 41, 2, 25, 24, 30, 43, 29, 17, 27, 7, 39, 14, 49, 42, 23, 10, 26, 31, 38, 35, 28, 45)\n",
      "\n",
      "judge: Pos: (20, 30, 13, 4, 8, 9, 38, 22, 11, 44, 28, 5, 21, 40, 7, 1, 36, 18, 16, 19, 23, 3, 43, 32, 31, 45, 37, 49, 35, 33, 46, 26, 15, 10, 48, 17, 14, 47, 39, 12, 29, 42, 34, 6, 50, 25, 24, 2, 41, 27)\n",
      "\n",
      "  sol: 1 50 30000\n",
      "\n",
      "  sol: [16, 48, 22, 4, 12, 44, 15, 5, 6, 34, 9, 40, 3, 37, 33, 19, 36, 18, 20, 1, 13, 8, 21, 47, 46, 32, 50, 11, 41, 2, 25, 24, 30, 43, 29, 17, 27, 7, 39, 14, 49, 42, 23, 10, 26, 31, 38, 35, 28, 45]\n",
      "\n"
     ]
    },
    {
     "name": "stdout",
     "output_type": "stream",
     "text": [
      "\n",
      "Judge return code: 0\n",
      "Solution return code: 0\n",
      "A solution and judge both finishing with exit code 0 (without exceeding time or memory limits) would be interpreted as Correct in the system.\n"
     ]
    },
    {
     "name": "stderr",
     "output_type": "stream",
     "text": [
      "judge: Total Queries Used: 710/30000\n",
      "\n"
     ]
    }
   ],
   "source": [
    "!python interactive_runner.py python test_median_sort.py 1 -- python sol_median_sort.py"
   ]
  },
  {
   "cell_type": "code",
   "execution_count": 684,
   "metadata": {},
   "outputs": [
    {
     "name": "stdout",
     "output_type": "stream",
     "text": [
      "\n",
      "Judge return code: 0\n",
      "Solution return code: 0\n",
      "A solution and judge both finishing with exit code 0 (without exceeding time or memory limits) would be interpreted as Correct in the system.\n"
     ]
    },
    {
     "name": "stderr",
     "output_type": "stream",
     "text": [
      "judge: Case (28, 4, 30, 19, 8, 18, 16, 11, 45, 33, 46, 27, 32, 6, 9, 21, 41, 10, 13, 47, 36, 25, 44, 15, 1, 39, 37, 24, 14, 23, 5, 40, 29, 3, 12, 2, 20, 38, 26, 42, 7, 50, 22, 34, 17, 49, 43, 48, 31, 35)\n",
      "\n",
      "judge: Pos: (25, 36, 34, 2, 31, 14, 41, 5, 15, 18, 8, 35, 19, 29, 24, 7, 45, 6, 4, 37, 16, 43, 30, 28, 22, 39, 12, 1, 33, 3, 49, 13, 10, 44, 50, 21, 27, 38, 26, 32, 17, 40, 47, 23, 9, 11, 20, 48, 46, 42)\n",
      "\n",
      "  sol: 1 50 17000\n",
      "\n",
      "  sol: [28, 4, 30, 19, 8, 18, 16, 11, 45, 33, 46, 27, 32, 6, 9, 21, 41, 10, 13, 47, 36, 25, 44, 15, 1, 39, 37, 24, 14, 23, 5, 40, 29, 3, 12, 2, 20, 38, 26, 42, 7, 50, 22, 34, 17, 49, 43, 48, 31, 35]\n",
      "\n",
      "judge: Total Queries Used: 701/17000\n",
      "\n"
     ]
    }
   ],
   "source": [
    "!python interactive_runner.py python test_median_sort.py 2 -- python sol_median_sort.py"
   ]
  },
  {
   "cell_type": "code",
   "execution_count": null,
   "metadata": {},
   "outputs": [],
   "source": []
  }
 ],
 "metadata": {
  "kernelspec": {
   "display_name": "base",
   "language": "python",
   "name": "base"
  },
  "language_info": {
   "codemirror_mode": {
    "name": "ipython",
    "version": 3
   },
   "file_extension": ".py",
   "mimetype": "text/x-python",
   "name": "python",
   "nbconvert_exporter": "python",
   "pygments_lexer": "ipython3",
   "version": "3.7.6"
  }
 },
 "nbformat": 4,
 "nbformat_minor": 4
}
