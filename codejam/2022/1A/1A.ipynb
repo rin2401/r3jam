{
 "cells": [
  {
   "cell_type": "code",
   "execution_count": 3,
   "metadata": {},
   "outputs": [],
   "source": [
    "row_index = 0\n",
    "def input():\n",
    "    global row_index, text\n",
    "    rows = [t for t in text.split(\"\\n\") if t]\n",
    "    row_index += 1\n",
    "    return rows[row_index-1]\n",
    "\n",
    "def run():\n",
    "    global row_index\n",
    "    row_index = 0\n",
    "    solve()"
   ]
  },
  {
   "cell_type": "code",
   "execution_count": 2,
   "metadata": {},
   "outputs": [
    {
     "data": {
      "text/plain": [
       "True"
      ]
     },
     "execution_count": 2,
     "metadata": {},
     "output_type": "execute_result"
    }
   ],
   "source": [
    "\"PEEL\" > \"PEEEEL\""
   ]
  },
  {
   "cell_type": "code",
   "execution_count": 29,
   "metadata": {},
   "outputs": [],
   "source": [
    "def single(t, S):\n",
    "    A = \"\"\n",
    "    count = 1\n",
    "    for i in range(len(S) - 1):\n",
    "        if S[i] == S[i+1]:\n",
    "            count +=1\n",
    "        elif S[i] < S[i+1]:\n",
    "            A += S[i] * 2 * count\n",
    "            count = 1\n",
    "        else:\n",
    "            A += S[i] * count\n",
    "            count = 1\n",
    "            \n",
    "    A += S[-1] * count\n",
    "    \n",
    "    print(\"Case #{}: {}\".format(t + 1, A))\n",
    "                    \n",
    "def solve():\n",
    "    T = int(input())\n",
    "    for t in range(T):\n",
    "        S = input()\n",
    "        single(t, S)"
   ]
  },
  {
   "cell_type": "code",
   "execution_count": 35,
   "metadata": {},
   "outputs": [
    {
     "name": "stdout",
     "output_type": "stream",
     "text": [
      "Case #1: BBBAAAAB\n",
      "Case #2: HEELLLLOOWOORLD\n",
      "Case #3: PEEEEL\n",
      "Case #4: AAAAAAAAAA\n",
      "Case #5: CCODDEEJAAMDAAY\n"
     ]
    }
   ],
   "source": [
    "text = \"\"\"\n",
    "5\n",
    "BBBAAB\n",
    "HELLOWORLD\n",
    "PEEL\n",
    "AAAAAAAAAA\n",
    "CODEJAMDAY\n",
    "\"\"\"\n",
    "run()"
   ]
  },
  {
   "cell_type": "code",
   "execution_count": 18,
   "metadata": {},
   "outputs": [
    {
     "data": {
      "text/plain": [
       "True"
      ]
     },
     "execution_count": 18,
     "metadata": {},
     "output_type": "execute_result"
    }
   ],
   "source": [
    "\"PEEEEL\" < \"PEEEL\""
   ]
  },
  {
   "cell_type": "code",
   "execution_count": 31,
   "metadata": {},
   "outputs": [
    {
     "data": {
      "text/plain": [
       "True"
      ]
     },
     "execution_count": 31,
     "metadata": {},
     "output_type": "execute_result"
    }
   ],
   "source": [
    "\"HEELLLLOOWOORLD\" < \"HHELLLOWOORLLD\""
   ]
  },
  {
   "cell_type": "code",
   "execution_count": null,
   "metadata": {},
   "outputs": [],
   "source": []
  }
 ],
 "metadata": {
  "kernelspec": {
   "display_name": "base",
   "language": "python",
   "name": "base"
  },
  "language_info": {
   "codemirror_mode": {
    "name": "ipython",
    "version": 3
   },
   "file_extension": ".py",
   "mimetype": "text/x-python",
   "name": "python",
   "nbconvert_exporter": "python",
   "pygments_lexer": "ipython3",
   "version": "3.7.6"
  }
 },
 "nbformat": 4,
 "nbformat_minor": 4
}
