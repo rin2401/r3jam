{
 "cells": [
  {
   "cell_type": "code",
   "execution_count": 78,
   "metadata": {},
   "outputs": [],
   "source": [
    "import requests\n",
    "import json\n",
    "import datetime\n",
    "\n",
    "def leetcode_today():\n",
    "    print(datetime.datetime.now().isoformat())\n",
    "    url = \"https://leetcode.com/graphql\"\n",
    "\n",
    "    query = \"\"\"\n",
    "    query {\n",
    "        activeDailyCodingChallengeQuestion {\n",
    "            link, \n",
    "            question {\n",
    "                questionId,\n",
    "                title,\n",
    "                titleSlug,\n",
    "                difficulty,\n",
    "                content,\n",
    "                exampleTestcases,\n",
    "                categoryTitle,\n",
    "                topicTags {\n",
    "                    name\n",
    "                },\n",
    "                codeSnippets {\n",
    "                    lang,\n",
    "                    code\n",
    "                }\n",
    "            }\n",
    "        }\n",
    "    }\n",
    "    \"\"\"\n",
    "\n",
    "    payload = {\n",
    "        \"query\": query,\n",
    "        \"variables\": {}\n",
    "    }\n",
    "    payload = json.dumps(payload)\n",
    "    headers = {\n",
    "      'Content-Type': 'application/json',\n",
    "    }\n",
    "\n",
    "    res = requests.request(\"POST\", url, headers=headers, data=payload).json()\n",
    "\n",
    "    res = res[\"data\"][\"activeDailyCodingChallengeQuestion\"]\n",
    "    \n",
    "    q = res[\"question\"]\n",
    "    with open(f'{q[\"questionId\"]}. {q[\"title\"]}.md', \"w\", encoding=\"utf8\") as f:\n",
    "        f.write(q[\"content\"])\n",
    "\n",
    "    for x in q[\"codeSnippets\"]:\n",
    "        if x[\"lang\"] == \"Python3\":\n",
    "            with open(f'{q[\"questionId\"]}.py', \"w\", encoding=\"utf8\") as f:\n",
    "                f.write(x[\"code\"])\n",
    "            break\n",
    "    print(q[\"questionId\"])\n",
    "    print(q[\"title\"])\n",
    "    print(q[\"difficulty\"])\n",
    "    print(\"https://leetcode.com\" + res[\"link\"])"
   ]
  },
  {
   "cell_type": "code",
   "execution_count": 79,
   "metadata": {},
   "outputs": [
    {
     "name": "stdout",
     "output_type": "stream",
     "text": [
      "2022-10-03T22:01:29.466797\n",
      "1700\n",
      "Minimum Time to Make Rope Colorful\n",
      "Medium\n",
      "https://leetcode.com/problems/minimum-time-to-make-rope-colorful/\n"
     ]
    }
   ],
   "source": [
    "leetcode_today()"
   ]
  },
  {
   "cell_type": "code",
   "execution_count": null,
   "metadata": {},
   "outputs": [],
   "source": []
  }
 ],
 "metadata": {
  "kernelspec": {
   "display_name": "base",
   "language": "python",
   "name": "base"
  },
  "language_info": {
   "codemirror_mode": {
    "name": "ipython",
    "version": 3
   },
   "file_extension": ".py",
   "mimetype": "text/x-python",
   "name": "python",
   "nbconvert_exporter": "python",
   "pygments_lexer": "ipython3",
   "version": "3.7.6"
  }
 },
 "nbformat": 4,
 "nbformat_minor": 4
}
