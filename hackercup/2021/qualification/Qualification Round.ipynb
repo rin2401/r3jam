{
 "cells": [
  {
   "cell_type": "markdown",
   "metadata": {},
   "source": [
    "# Problem A1: Consistency - Chapter 1"
   ]
  },
  {
   "cell_type": "code",
   "execution_count": 16,
   "metadata": {},
   "outputs": [],
   "source": [
    "from collections import Counter\n",
    "def solve(text):\n",
    "    V = []\n",
    "    C = []\n",
    "    for t, c in Counter(text).most_common():\n",
    "        if t in \"AEIOU\":\n",
    "            V.append((t, c))\n",
    "        else:\n",
    "            C.append((t, c))\n",
    "    \n",
    "    sC = sum([x[1] for x in C])\n",
    "    sV = sum([x[1] for x in V])\n",
    "    \n",
    "    ssC = sC\n",
    "    if ssC:\n",
    "        ssC -= C[0][1]\n",
    "    ssV = sV\n",
    "    if ssV:\n",
    "        ssV -= V[0][1]\n",
    "        \n",
    "    return min(ssV * 2 + sC, ssC * 2 + sV)"
   ]
  },
  {
   "cell_type": "code",
   "execution_count": 24,
   "metadata": {},
   "outputs": [
    {
     "name": "stdout",
     "output_type": "stream",
     "text": [
      "Case #1: 88\n",
      "Case #2: 43\n",
      "Case #3: 114\n",
      "Case #4: 67\n",
      "Case #5: 57\n",
      "Case #6: 67\n",
      "Case #7: 99\n",
      "Case #8: 41\n",
      "Case #9: 29\n",
      "Case #10: 100\n",
      "Case #11: 0\n",
      "Case #12: 100\n",
      "Case #13: 3\n",
      "Case #14: 38\n",
      "Case #15: 117\n",
      "Case #16: 95\n",
      "Case #17: 94\n",
      "Case #18: 93\n",
      "Case #19: 66\n",
      "Case #20: 85\n",
      "Case #21: 86\n",
      "Case #22: 46\n",
      "Case #23: 102\n",
      "Case #24: 30\n",
      "Case #25: 76\n",
      "Case #26: 28\n",
      "Case #27: 25\n",
      "Case #28: 98\n",
      "Case #29: 114\n",
      "Case #30: 2\n",
      "Case #31: 12\n",
      "Case #32: 17\n",
      "Case #33: 80\n",
      "Case #34: 60\n",
      "Case #35: 5\n",
      "Case #36: 106\n",
      "Case #37: 94\n",
      "Case #38: 100\n",
      "Case #39: 4\n",
      "Case #40: 62\n",
      "Case #41: 60\n",
      "Case #42: 70\n",
      "Case #43: 86\n",
      "Case #44: 128\n",
      "Case #45: 99\n"
     ]
    }
   ],
   "source": [
    "test_path = \"consistency_chapter_1_validation\"\n",
    "test_path = \"consistency_chapter_1\"\n",
    "\n",
    "with open(f\"{test_path}_input.txt\", encoding=\"utf-8\") as f:\n",
    "    texts = [l.strip() for l in f][1:]\n",
    "    \n",
    "with open(f\"{test_path}_output.txt\", \"w\", encoding=\"utf-8\") as f:\n",
    "    for i, text in enumerate(texts):\n",
    "        print(f\"Case #{i+1}:\", solve(text))\n",
    "        f.write(f\"Case #{i+1}: {solve(text)}\\n\")\n",
    "    "
   ]
  },
  {
   "cell_type": "markdown",
   "metadata": {},
   "source": [
    "# Problem A2: Consistency - Chapter 2"
   ]
  },
  {
   "cell_type": "code",
   "execution_count": null,
   "metadata": {},
   "outputs": [],
   "source": []
  },
  {
   "cell_type": "code",
   "execution_count": null,
   "metadata": {},
   "outputs": [],
   "source": []
  },
  {
   "cell_type": "code",
   "execution_count": null,
   "metadata": {},
   "outputs": [],
   "source": []
  },
  {
   "cell_type": "code",
   "execution_count": null,
   "metadata": {},
   "outputs": [],
   "source": []
  }
 ],
 "metadata": {
  "kernelspec": {
   "display_name": "base",
   "language": "python",
   "name": "base"
  },
  "language_info": {
   "codemirror_mode": {
    "name": "ipython",
    "version": 3
   },
   "file_extension": ".py",
   "mimetype": "text/x-python",
   "name": "python",
   "nbconvert_exporter": "python",
   "pygments_lexer": "ipython3",
   "version": "3.7.6"
  }
 },
 "nbformat": 4,
 "nbformat_minor": 4
}
