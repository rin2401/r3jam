{
 "cells": [
  {
   "cell_type": "code",
   "execution_count": 1,
   "metadata": {},
   "outputs": [],
   "source": [
    "row_index = 0\n",
    "def input():\n",
    "    global row_index, text\n",
    "    rows = [t for t in text.split(\"\\n\") if t]\n",
    "    row_index += 1\n",
    "    return rows[row_index-1]\n",
    "\n",
    "def run():\n",
    "    global row_index\n",
    "    row_index = 0\n",
    "    solve()"
   ]
  },
  {
   "cell_type": "code",
   "execution_count": 28,
   "metadata": {},
   "outputs": [],
   "source": [
    "from collections import Counter\n",
    "\n",
    "def solve():\n",
    "    N, M = list(map(int, input().split()))\n",
    "    C = [int(input()) for _ in range(N)]\n",
    "    E = [set(map(int, input().split())) for _ in range(M)]\n",
    "    \n",
    "    for i in range(M):\n",
    "        count = list(Counter([d for e in E for d in e]).most_common())\n",
    "        d = count[0][0]\n",
    "        print(d)\n",
    "        E = [e for e in E if d not in e]\n",
    "        if not E:\n",
    "            break"
   ]
  },
  {
   "cell_type": "code",
   "execution_count": 29,
   "metadata": {},
   "outputs": [
    {
     "name": "stdout",
     "output_type": "stream",
     "text": [
      "0\n",
      "2\n"
     ]
    }
   ],
   "source": [
    "text = \"\"\"\n",
    "4 4\n",
    "10\n",
    "20\n",
    "30\n",
    "40\n",
    "0 1\n",
    "0 3\n",
    "1 2\n",
    "2 3\n",
    "\"\"\"\n",
    "run()"
   ]
  },
  {
   "cell_type": "code",
   "execution_count": null,
   "metadata": {},
   "outputs": [],
   "source": []
  }
 ],
 "metadata": {
  "kernelspec": {
   "display_name": "base",
   "language": "python",
   "name": "base"
  },
  "language_info": {
   "codemirror_mode": {
    "name": "ipython",
    "version": 3
   },
   "file_extension": ".py",
   "mimetype": "text/x-python",
   "name": "python",
   "nbconvert_exporter": "python",
   "pygments_lexer": "ipython3",
   "version": "3.7.6"
  }
 },
 "nbformat": 4,
 "nbformat_minor": 4
}
